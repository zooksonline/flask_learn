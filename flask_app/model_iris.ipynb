{
 "cells": [
  {
   "cell_type": "code",
   "execution_count": 9,
   "id": "03a0db62-a3fd-4932-a781-45a4eda2f466",
   "metadata": {},
   "outputs": [],
   "source": [
    "from sklearn.metrics import accuracy_score\n",
    "import numpy as np\n",
    "import pandas as pd\n",
    "from sklearn.linear_model import LogisticRegression\n",
    "from sklearn.datasets import load_iris\n",
    "from sklearn.model_selection import train_test_split"
   ]
  },
  {
   "cell_type": "code",
   "execution_count": 10,
   "id": "344594b1-e9f9-403a-aa65-a580782f1ee2",
   "metadata": {},
   "outputs": [],
   "source": [
    "dataset = load_iris()"
   ]
  },
  {
   "cell_type": "code",
   "execution_count": 11,
   "id": "d6063f2b-8c7a-4f22-b8ab-9da050df1b49",
   "metadata": {},
   "outputs": [],
   "source": [
    "names = dataset.feature_names\n",
    "features = dataset.data\n",
    "labels = dataset.target\n",
    "feature_train, feature_test, label_train, label_test = train_test_split(features, labels, test_size=0.2,\n",
    "random_state=42)\n",
    "model = LogisticRegression(max_iter=500)"
   ]
  },
  {
   "cell_type": "code",
   "execution_count": 12,
   "id": "5b40d882-7089-4165-81e4-f86ea142e825",
   "metadata": {},
   "outputs": [
    {
     "name": "stdout",
     "output_type": "stream",
     "text": [
      "1.0\n"
     ]
    }
   ],
   "source": [
    "model.fit(feature_train, label_train)\n",
    "label_pred = model.predict(feature_test)\n",
    "accuracy_score(label_pred, label_test)\n",
    "print(accuracy_score(label_pred, label_test))"
   ]
  },
  {
   "cell_type": "code",
   "execution_count": 13,
   "id": "124e41a2-b4b9-44bb-a32c-0b917b6b73a7",
   "metadata": {},
   "outputs": [],
   "source": [
    "import pickle\n",
    "pickle.dump(model,open('model.pkl','wb+'))"
   ]
  },
  {
   "cell_type": "code",
   "execution_count": null,
   "id": "7e051526-ae73-4e85-b774-9d02236af4f6",
   "metadata": {},
   "outputs": [],
   "source": []
  }
 ],
 "metadata": {
  "kernelspec": {
   "display_name": "Python 3 (ipykernel)",
   "language": "python",
   "name": "python3"
  },
  "language_info": {
   "codemirror_mode": {
    "name": "ipython",
    "version": 3
   },
   "file_extension": ".py",
   "mimetype": "text/x-python",
   "name": "python",
   "nbconvert_exporter": "python",
   "pygments_lexer": "ipython3",
   "version": "3.10.1"
  }
 },
 "nbformat": 4,
 "nbformat_minor": 5
}
